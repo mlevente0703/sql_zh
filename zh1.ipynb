{
    "metadata": {
        "kernelspec": {
            "name": "SQL",
            "display_name": "SQL",
            "language": "sql"
        },
        "language_info": {
            "name": "sql",
            "version": ""
        }
    },
    "nbformat_minor": 2,
    "nbformat": 4,
    "cells": [
        {
            "cell_type": "code",
            "source": [
                "proba"
            ],
            "metadata": {
                "azdata_cell_guid": "23f1ea4d-5acc-4365-a48e-e8d6ca8f8eb2",
                "language": "sql"
            },
            "outputs": [],
            "execution_count": null
        },
        {
            "cell_type": "code",
            "source": [
                ""
            ],
            "metadata": {
                "language": "sql",
                "azdata_cell_guid": "388df796-56f7-45a2-8a61-21db032bd8f2"
            },
            "outputs": [],
            "execution_count": null
        }
    ]
}