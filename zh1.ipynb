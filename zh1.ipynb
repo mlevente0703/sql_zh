{
    "metadata": {
        "kernelspec": {
            "name": "SQL",
            "display_name": "SQL",
            "language": "sql"
        },
        "language_info": {
            "name": "sql",
            "version": ""
        }
    },
    "nbformat_minor": 2,
    "nbformat": 4,
    "cells": [
        {
            "cell_type": "code",
            "source": [
                "SELECT NEV, EMAIL\r\n",
                "FROM VENDEG\r\n",
                "WHERE YEAR(SZUL_DAT) BETWEEN 1995 AND 1999\r\n",
                "ORDER BY MONTH(SZUL_DAT) ASC"
            ],
            "metadata": {
                "azdata_cell_guid": "23f1ea4d-5acc-4365-a48e-e8d6ca8f8eb2",
                "language": "sql"
            },
            "outputs": [
                {
                    "output_type": "display_data",
                    "data": {
                        "text/html": "(26 rows affected)"
                    },
                    "metadata": {}
                },
                {
                    "output_type": "display_data",
                    "data": {
                        "text/html": "Total execution time: 00:00:00.047"
                    },
                    "metadata": {}
                },
                {
                    "output_type": "execute_result",
                    "metadata": {},
                    "execution_count": 1,
                    "data": {
                        "application/vnd.dataresource+json": {
                            "schema": {
                                "fields": [
                                    {
                                        "name": "NEV"
                                    },
                                    {
                                        "name": "EMAIL"
                                    }
                                ]
                            },
                            "data": [
                                {
                                    "NEV": "Balogh Eszter",
                                    "EMAIL": "eszter.balogh@mail.hu"
                                },
                                {
                                    "NEV": "Kispál Márk",
                                    "EMAIL": "márk.kispál@mail.hu"
                                },
                                {
                                    "NEV": "Papós Tímea",
                                    "EMAIL": "timea@gmail.com"
                                },
                                {
                                    "NEV": "Koza Máté",
                                    "EMAIL": "máté.koza@mail.hu"
                                },
                                {
                                    "NEV": "Nagymihály Lajos",
                                    "EMAIL": "lajos.nagymihály@mail.hu"
                                },
                                {
                                    "NEV": "Farkas Béla",
                                    "EMAIL": "BELAF@gmail.com"
                                },
                                {
                                    "NEV": "Horváth Bálint",
                                    "EMAIL": "balint@gmail.com"
                                },
                                {
                                    "NEV": "Erdei András",
                                    "EMAIL": "ANDRASE@gmail.com"
                                },
                                {
                                    "NEV": "Szomor Andrea",
                                    "EMAIL": "andrea3@gmail.com"
                                },
                                {
                                    "NEV": "Opra Attila",
                                    "EMAIL": "ATTILAO@gmail.com"
                                },
                                {
                                    "NEV": "Sarodi Dóra",
                                    "EMAIL": "dóra.sarodi@mail.hu"
                                },
                                {
                                    "NEV": "Urbán Viktoria",
                                    "EMAIL": "viktoria.urbán@mail.hu"
                                },
                                {
                                    "NEV": "Zatykó Katalin",
                                    "EMAIL": "katalin.zatykó@mail.hu"
                                },
                                {
                                    "NEV": "Nagy Sándor",
                                    "EMAIL": "sandor4@gmail.com"
                                },
                                {
                                    "NEV": "Hídasi Judit",
                                    "EMAIL": "JUDITH@gmail.com"
                                },
                                {
                                    "NEV": "Frank Fruzsina",
                                    "EMAIL": "fruzsina4@gmail.com"
                                },
                                {
                                    "NEV": "Kovács Bernadett",
                                    "EMAIL": "bernadett.kovács@mail.hu"
                                },
                                {
                                    "NEV": "Vukasinovity Bálint",
                                    "EMAIL": "balint2@gmail.com"
                                },
                                {
                                    "NEV": "Horváth Márk",
                                    "EMAIL": "márk.horváth@mail.hu"
                                },
                                {
                                    "NEV": "Tóth András",
                                    "EMAIL": "andrás.tóth@mail.hu"
                                },
                                {
                                    "NEV": "Komjáti András",
                                    "EMAIL": "andras41@gmail.com"
                                },
                                {
                                    "NEV": "Gondos Miklós",
                                    "EMAIL": "miklos2@gmail.com"
                                },
                                {
                                    "NEV": "Tatár Nikoletta",
                                    "EMAIL": "nikoletta.tatár@mail.hu"
                                },
                                {
                                    "NEV": "Fényes Tamás",
                                    "EMAIL": "TAMASF@gmail.com"
                                },
                                {
                                    "NEV": "Baráth Mária",
                                    "EMAIL": "mária.baráth@mail.hu"
                                },
                                {
                                    "NEV": "Vizi István",
                                    "EMAIL": "istván.vizi@mail.hu"
                                }
                            ]
                        },
                        "text/html": [
                            "<table>",
                            "<tr><th>NEV</th><th>EMAIL</th></tr>",
                            "<tr><td>Balogh Eszter</td><td>eszter.balogh@mail.hu</td></tr>",
                            "<tr><td>Kispál Márk</td><td>márk.kispál@mail.hu</td></tr>",
                            "<tr><td>Papós Tímea</td><td>timea@gmail.com</td></tr>",
                            "<tr><td>Koza Máté</td><td>máté.koza@mail.hu</td></tr>",
                            "<tr><td>Nagymihály Lajos</td><td>lajos.nagymihály@mail.hu</td></tr>",
                            "<tr><td>Farkas Béla</td><td>BELAF@gmail.com</td></tr>",
                            "<tr><td>Horváth Bálint</td><td>balint@gmail.com</td></tr>",
                            "<tr><td>Erdei András</td><td>ANDRASE@gmail.com</td></tr>",
                            "<tr><td>Szomor Andrea</td><td>andrea3@gmail.com</td></tr>",
                            "<tr><td>Opra Attila</td><td>ATTILAO@gmail.com</td></tr>",
                            "<tr><td>Sarodi Dóra</td><td>dóra.sarodi@mail.hu</td></tr>",
                            "<tr><td>Urbán Viktoria</td><td>viktoria.urbán@mail.hu</td></tr>",
                            "<tr><td>Zatykó Katalin</td><td>katalin.zatykó@mail.hu</td></tr>",
                            "<tr><td>Nagy Sándor</td><td>sandor4@gmail.com</td></tr>",
                            "<tr><td>Hídasi Judit</td><td>JUDITH@gmail.com</td></tr>",
                            "<tr><td>Frank Fruzsina</td><td>fruzsina4@gmail.com</td></tr>",
                            "<tr><td>Kovács Bernadett</td><td>bernadett.kovács@mail.hu</td></tr>",
                            "<tr><td>Vukasinovity Bálint</td><td>balint2@gmail.com</td></tr>",
                            "<tr><td>Horváth Márk</td><td>márk.horváth@mail.hu</td></tr>",
                            "<tr><td>Tóth András</td><td>andrás.tóth@mail.hu</td></tr>",
                            "<tr><td>Komjáti András</td><td>andras41@gmail.com</td></tr>",
                            "<tr><td>Gondos Miklós</td><td>miklos2@gmail.com</td></tr>",
                            "<tr><td>Tatár Nikoletta</td><td>nikoletta.tatár@mail.hu</td></tr>",
                            "<tr><td>Fényes Tamás</td><td>TAMASF@gmail.com</td></tr>",
                            "<tr><td>Baráth Mária</td><td>mária.baráth@mail.hu</td></tr>",
                            "<tr><td>Vizi István</td><td>istván.vizi@mail.hu</td></tr>",
                            "</table>"
                        ]
                    }
                }
            ],
            "execution_count": 1
        },
        {
            "cell_type": "code",
            "source": [
                "SELECT szh.SZALLAS_NEV, COUNT(sz.KLIMAS)\r\n",
                "from szallashely szh JOIN Szoba sz on szh.SZALLAS_ID=sz.SZALLAS_FK\r\n",
                "WHERE sz.KLIMAS = 'i'\r\n",
                "GROUP BY szh.SZALLAS_NEV"
            ],
            "metadata": {
                "language": "sql",
                "azdata_cell_guid": "388df796-56f7-45a2-8a61-21db032bd8f2",
                "tags": []
            },
            "outputs": [
                {
                    "output_type": "display_data",
                    "data": {
                        "text/html": "(17 rows affected)"
                    },
                    "metadata": {}
                },
                {
                    "output_type": "display_data",
                    "data": {
                        "text/html": "Total execution time: 00:00:00.016"
                    },
                    "metadata": {}
                },
                {
                    "output_type": "execute_result",
                    "metadata": {},
                    "execution_count": 3,
                    "data": {
                        "application/vnd.dataresource+json": {
                            "schema": {
                                "fields": [
                                    {
                                        "name": "SZALLAS_NEV"
                                    },
                                    {
                                        "name": "(No column name)"
                                    }
                                ]
                            },
                            "data": [
                                {
                                    "SZALLAS_NEV": "Bagoly Hotel",
                                    "(No column name)": "14"
                                },
                                {
                                    "SZALLAS_NEV": "Családi Ház",
                                    "(No column name)": "4"
                                },
                                {
                                    "SZALLAS_NEV": "Fortuna Apartman",
                                    "(No column name)": "7"
                                },
                                {
                                    "SZALLAS_NEV": "Fortuna panzió",
                                    "(No column name)": "20"
                                },
                                {
                                    "SZALLAS_NEV": "Gold Hotel",
                                    "(No column name)": "42"
                                },
                                {
                                    "SZALLAS_NEV": "Hotel Három Hattyú",
                                    "(No column name)": "28"
                                },
                                {
                                    "SZALLAS_NEV": "Jáde panzió",
                                    "(No column name)": "2"
                                },
                                {
                                    "SZALLAS_NEV": "Kentaur Hotel",
                                    "(No column name)": "22"
                                },
                                {
                                    "SZALLAS_NEV": "Kollégium",
                                    "(No column name)": "9"
                                },
                                {
                                    "SZALLAS_NEV": "Lagúna Hotel",
                                    "(No column name)": "15"
                                },
                                {
                                    "SZALLAS_NEV": "Nyárfás Vendégház",
                                    "(No column name)": "6"
                                },
                                {
                                    "SZALLAS_NEV": "Partiszél Vendégház",
                                    "(No column name)": "4"
                                },
                                {
                                    "SZALLAS_NEV": "Riviéra Panzió",
                                    "(No column name)": "8"
                                },
                                {
                                    "SZALLAS_NEV": "Sába-Ház",
                                    "(No column name)": "10"
                                },
                                {
                                    "SZALLAS_NEV": "Szarvas Hotel",
                                    "(No column name)": "11"
                                },
                                {
                                    "SZALLAS_NEV": "Szieszta Apartmanház",
                                    "(No column name)": "4"
                                },
                                {
                                    "SZALLAS_NEV": "Tímárház Panzió",
                                    "(No column name)": "9"
                                }
                            ]
                        },
                        "text/html": [
                            "<table>",
                            "<tr><th>SZALLAS_NEV</th><th>(No column name)</th></tr>",
                            "<tr><td>Bagoly Hotel</td><td>14</td></tr>",
                            "<tr><td>Családi Ház</td><td>4</td></tr>",
                            "<tr><td>Fortuna Apartman</td><td>7</td></tr>",
                            "<tr><td>Fortuna panzió</td><td>20</td></tr>",
                            "<tr><td>Gold Hotel</td><td>42</td></tr>",
                            "<tr><td>Hotel Három Hattyú</td><td>28</td></tr>",
                            "<tr><td>Jáde panzió</td><td>2</td></tr>",
                            "<tr><td>Kentaur Hotel</td><td>22</td></tr>",
                            "<tr><td>Kollégium</td><td>9</td></tr>",
                            "<tr><td>Lagúna Hotel</td><td>15</td></tr>",
                            "<tr><td>Nyárfás Vendégház</td><td>6</td></tr>",
                            "<tr><td>Partiszél Vendégház</td><td>4</td></tr>",
                            "<tr><td>Riviéra Panzió</td><td>8</td></tr>",
                            "<tr><td>Sába-Ház</td><td>10</td></tr>",
                            "<tr><td>Szarvas Hotel</td><td>11</td></tr>",
                            "<tr><td>Szieszta Apartmanház</td><td>4</td></tr>",
                            "<tr><td>Tímárház Panzió</td><td>9</td></tr>",
                            "</table>"
                        ]
                    }
                }
            ],
            "execution_count": 3
        }
    ]
}